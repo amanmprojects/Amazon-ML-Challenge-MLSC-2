{
 "cells": [
  {
   "cell_type": "code",
   "execution_count": 1,
   "metadata": {},
   "outputs": [],
   "source": [
    "import pandas as pd"
   ]
  },
  {
   "cell_type": "code",
   "execution_count": 2,
   "metadata": {},
   "outputs": [
    {
     "name": "stdout",
     "output_type": "stream",
     "text": [
      "                                          image_link  group_id  entity_name  \\\n",
      "0  https://m.media-amazon.com/images/I/51vRuJGigW...    241895        width   \n",
      "1  https://m.media-amazon.com/images/I/41sPaw79HV...    478357        width   \n",
      "2  https://m.media-amazon.com/images/I/71LKdvTfnk...    369753  item_volume   \n",
      "3  https://m.media-amazon.com/images/I/51EWfSMvmT...    730429        depth   \n",
      "4  https://m.media-amazon.com/images/I/81Woj0uc80...    558374  item_weight   \n",
      "\n",
      "       entity_value  \n",
      "0  225.0 millimetre  \n",
      "1  160.0 centimetre  \n",
      "2         2.5 ounce  \n",
      "3   40.0 millimetre  \n",
      "4        1.41 ounce  \n"
     ]
    }
   ],
   "source": [
    "train_subset_df = pd.read_csv('./train_data_subset.csv')\n",
    "\n",
    "print(train_subset_df.head())"
   ]
  },
  {
   "cell_type": "code",
   "execution_count": 3,
   "metadata": {},
   "outputs": [
    {
     "name": "stderr",
     "output_type": "stream",
     "text": [
      "100%|██████████| 150/150 [00:00<00:00, 8241.04it/s]\n"
     ]
    }
   ],
   "source": [
    "from src.utils import download_images\n",
    "\n",
    "image_links = train_subset_df['image_link'].tolist()\n",
    "download_images(image_links, 'train_subset_images', 'train')"
   ]
  },
  {
   "cell_type": "code",
   "execution_count": 12,
   "metadata": {},
   "outputs": [],
   "source": [
    "import cv2\n",
    "import os\n",
    "def preprocess_image(image_path):\n",
    "    \n",
    "\n",
    "    image = cv2.imread(image_path)\n",
    "    print(image_path)\n",
    "    \n",
    "    \n",
    "    # grayscale image\n",
    "    Grayscale_image = cv2.cvtColor(image, cv2.COLOR_BGR2GRAY)\n",
    "    \n",
    "    # threshold image\n",
    "    # Rect, Threshold = cv2.threshold(Grayscale_image, 0, 255, cv2.THRESH_OTSU | cv2.THRESH_BINARY_INV)\n",
    "    Rect, Threshold = cv2.threshold(Grayscale_image, 0, 255, cv2.THRESH_BINARY + cv2.THRESH_OTSU)\n",
    "    \n",
    "    # denoise image\n",
    "    Denoised_image = cv2.fastNlMeansDenoising(Threshold, None, 10, 7, 21)\n",
    "    \n",
    "    Rect_kernel = cv2.getStructuringElement(cv2.MORPH_RECT, (18, 18))\n",
    "    \n",
    "    # # dilation\n",
    "    # dilation = cv2.dilate(Threshold, Rect_kernel, iterations=1)\n",
    "    \n",
    "    \n",
    "    # # find contours\n",
    "    # Contours, Heirarchy = cv2.findContours(dilation, cv2.RETR_EXTERNAL, cv2.CHAIN_APPROX_SIMPLE)\n",
    "    \n",
    "    # for contour in Contours:\n",
    "    #     x, y, w, h = cv2.boundingRect(contour)\n",
    "    #     if w > 100 and h > 100:\n",
    "    #         cv2.rectangle(dilation, (x, y), (x + w, y + h), (0, 255, 0), 2)\n",
    "    \n",
    "    \n",
    "    # save image\n",
    "    cv2.imwrite(os.path.join('train_subset_images_processed', os.path.basename(image_path)), Denoised_image)\n",
    "    \n",
    "    \n",
    "    \n",
    "    return image"
   ]
  },
  {
   "cell_type": "code",
   "execution_count": 2,
   "metadata": {},
   "outputs": [],
   "source": [
    "# images_list = os.listdir('train_subset_images')\n",
    "# for imageee in images_list:\n",
    "#     if('41rci' in imageee):\n",
    "#         cv2.imshow(imageee, cv2.imread(os.path.join('train_subset_images', imageee)))\n",
    "#         cv2.waitKey(0)\n",
    "#         cv2.destroyAllWindows()\n",
    "#         break"
   ]
  },
  {
   "cell_type": "code",
   "execution_count": 13,
   "metadata": {},
   "outputs": [
    {
     "name": "stdout",
     "output_type": "stream",
     "text": [
      "train_subset_images/718gX0d-E0L.jpg\n",
      "train_subset_images/612qGNVmqBL.jpg\n",
      "train_subset_images/51cVYi+qLxL.jpg\n",
      "train_subset_images/51izNct4A5L.jpg\n",
      "train_subset_images/81nxVnqqaCL.jpg\n",
      "train_subset_images/71nLB+-LQIL.jpg\n",
      "train_subset_images/71TCUQNe2JL.jpg\n",
      "train_subset_images/613N88ubpiL.jpg\n",
      "train_subset_images/81Woj0uc80L.jpg\n",
      "train_subset_images/716Zd6S6FoL.jpg\n",
      "train_subset_images/519AWP2-QUL.jpg\n",
      "train_subset_images/411HSbm+yXL.jpg\n",
      "train_subset_images/713LA1ohHdL.jpg\n",
      "train_subset_images/611SFbB-fuL.jpg\n",
      "train_subset_images/51vRuJGigWL.jpg\n",
      "train_subset_images/61CCInnFxWL.jpg\n",
      "train_subset_images/71yacr9ropL.jpg\n",
      "train_subset_images/616BZG2bndL.jpg\n",
      "train_subset_images/613vnbDQNIL.jpg\n",
      "train_subset_images/61SU7KBIrXL.jpg\n",
      "train_subset_images/51oHj9EsbQL.jpg\n",
      "train_subset_images/413KztooizL.jpg\n",
      "train_subset_images/518Z8LK0-hS.jpg\n",
      "train_subset_images/716CKkbMUlL.jpg\n",
      "train_subset_images/611MLGD46wL.jpg\n",
      "train_subset_images/51Go5he39tL.jpg\n",
      "train_subset_images/51U1jB28UmL.jpg\n",
      "train_subset_images/41MbO2jKPlL.jpg\n",
      "train_subset_images/51EGRmn3BxL.jpg\n",
      "train_subset_images/517DgtdyrCS.jpg\n",
      "train_subset_images/81Ed7CQoxLL.jpg\n",
      "train_subset_images/41yiY-lRbLL.jpg\n",
      "train_subset_images/71NOdGPYv5L.jpg\n",
      "train_subset_images/51s4tlJ1nNL.jpg\n",
      "train_subset_images/61XYjzpRsGL.jpg\n",
      "train_subset_images/61pP7QsEE2L.jpg\n",
      "train_subset_images/610eqQIJbkL.jpg\n",
      "train_subset_images/71FVog4nCpL.jpg\n",
      "train_subset_images/614xOhdohqL.jpg\n",
      "train_subset_images/51I7CPqVT-L.jpg\n",
      "train_subset_images/71au22S0fFL.jpg\n",
      "train_subset_images/41c9lt34F8L.jpg\n",
      "train_subset_images/6161Evz76XL.jpg\n",
      "train_subset_images/610Plf3nDUL.jpg\n",
      "train_subset_images/61Es5e+3s9L.jpg\n",
      "train_subset_images/41mGpHgI7VL.jpg\n",
      "train_subset_images/51rDL0cl85L.jpg\n",
      "train_subset_images/616X31hL9wL.jpg\n",
      "train_subset_images/51aC1DwD-fL.jpg\n",
      "train_subset_images/61G8gp7q6gL.jpg\n",
      "train_subset_images/81GfAC59d9L.jpg\n",
      "train_subset_images/51za8K1AsRL.jpg\n",
      "train_subset_images/61BN+8xKkdL.jpg\n",
      "train_subset_images/61ms3sLDCLL.jpg\n",
      "train_subset_images/51AFBQTdM0L.jpg\n",
      "train_subset_images/51eRZdbO1rL.jpg\n",
      "train_subset_images/61TmxWklVML.jpg\n",
      "train_subset_images/610QuSZlVHL.jpg\n",
      "train_subset_images/41sjfSAiJCL.jpg\n",
      "train_subset_images/610DHeNWuiL.jpg\n",
      "train_subset_images/71kMOH8k2aL.jpg\n",
      "train_subset_images/51DwIlaLqvL.jpg\n",
      "train_subset_images/61ulFqZy+gL.jpg\n",
      "train_subset_images/61CNt6EfahL.jpg\n",
      "train_subset_images/518iLBnN-4L.jpg\n",
      "train_subset_images/51v27Y42T2L.jpg\n",
      "train_subset_images/515-l1g9UrL.jpg\n",
      "train_subset_images/61JF4fO6gUL.jpg\n",
      "train_subset_images/61FVWIg165L.jpg\n",
      "train_subset_images/91YBeQlPuWL.jpg\n",
      "train_subset_images/51EWfSMvmTS.jpg\n",
      "train_subset_images/71Jx7mtt4RL.jpg\n",
      "train_subset_images/61wcm1is36L.jpg\n",
      "train_subset_images/91faqtTyxwL.jpg\n",
      "train_subset_images/518S3mIYdYS.jpg\n",
      "train_subset_images/61vP-zNx6-L.jpg\n",
      "train_subset_images/81YgD+yUF7L.jpg\n",
      "train_subset_images/51eHMiPY1IL.jpg\n",
      "train_subset_images/61-LTgxm+kL.jpg\n",
      "train_subset_images/618ti82rq3L.jpg\n",
      "train_subset_images/61sEq4ohQYL.jpg\n",
      "train_subset_images/51f1djZA6FL.jpg\n",
      "train_subset_images/6152xtaCXSL.jpg\n",
      "train_subset_images/81Jew7TpyYL.jpg\n",
      "train_subset_images/71LWAKH9BOL.jpg\n",
      "train_subset_images/51-Ui85sf7L.jpg\n",
      "train_subset_images/71fWDexJpLL.jpg\n",
      "train_subset_images/51IHwBwQdXL.jpg\n",
      "train_subset_images/51xIgPwLJYL.jpg\n",
      "train_subset_images/616EWbOGOKL.jpg\n",
      "train_subset_images/41rciWHOkoL.jpg\n",
      "train_subset_images/61uhkDS3PHL.jpg\n",
      "train_subset_images/61Abyj7hGVL.jpg\n",
      "train_subset_images/612oXP1QOcL.jpg\n",
      "train_subset_images/41MzfSAy9ZL.jpg\n",
      "train_subset_images/51KftrzvhxL.jpg\n",
      "train_subset_images/617r9m+v5nL.jpg\n",
      "train_subset_images/61uMmdyeX3L.jpg\n",
      "train_subset_images/71A9t19ib5L.jpg\n",
      "train_subset_images/81fjCiXKtFL.jpg\n",
      "train_subset_images/514fFz7jwNL.jpg\n",
      "train_subset_images/51vaiVUH4aL.jpg\n",
      "train_subset_images/619JfPw21AL.jpg\n",
      "train_subset_images/41srFr-ngzL.jpg\n",
      "train_subset_images/5185iiOfodS.jpg\n",
      "train_subset_images/518PEEG0bWL.jpg\n",
      "train_subset_images/51aeK-rxkWS.jpg\n",
      "train_subset_images/41cCv+wfbyL.jpg\n",
      "train_subset_images/715GhHvEqfL.jpg\n",
      "train_subset_images/91HhtyvoMCL.jpg\n",
      "train_subset_images/51ZUMtNXIoL.jpg\n",
      "train_subset_images/51qa70obGTL.jpg\n",
      "train_subset_images/91nL9Me7vFL.jpg\n",
      "train_subset_images/714JkwAb3aL.jpg\n",
      "train_subset_images/71MgIoW0j0L.jpg\n",
      "train_subset_images/61G2TCiZd5L.jpg\n",
      "train_subset_images/51kKOaLPF6L.jpg\n",
      "train_subset_images/61H8TnM6abS.jpg\n",
      "train_subset_images/71aFOFGg59L.jpg\n",
      "train_subset_images/61CkATGqa8L.jpg\n",
      "train_subset_images/8146UkSOIPL.jpg\n",
      "train_subset_images/613L9bZgMDL.jpg\n",
      "train_subset_images/618bTzobT5L.jpg\n",
      "train_subset_images/71qHGsWUE3L.jpg\n",
      "train_subset_images/71AT6+7UWPL.jpg\n",
      "train_subset_images/71ZEWD2PvsS.jpg\n",
      "train_subset_images/613gQClILfL.jpg\n",
      "train_subset_images/61CfRjGgjDL.jpg\n",
      "train_subset_images/51cqPvcouxL.jpg\n",
      "train_subset_images/715zYlauMjL.jpg\n",
      "train_subset_images/51za42WKG1L.jpg\n",
      "train_subset_images/51NdCDdh73L.jpg\n",
      "train_subset_images/51gMUv4MB5S.jpg\n",
      "train_subset_images/61-uPRLAqSL.jpg\n",
      "train_subset_images/41-6P+m3M2L.jpg\n",
      "train_subset_images/618LzFqikwL.jpg\n",
      "train_subset_images/51f93EdurmL.jpg\n",
      "train_subset_images/71IDeKKNuCL.jpg\n",
      "train_subset_images/71n61t5I7PL.jpg\n",
      "train_subset_images/51tM-e8baJL.jpg\n",
      "train_subset_images/61+vcwifhbL.jpg\n",
      "train_subset_images/51KC3aEGsuL.jpg\n",
      "train_subset_images/41XoZSwXJ8L.jpg\n",
      "train_subset_images/51hiNSM-1mL.jpg\n",
      "train_subset_images/51dtmp5tNZL.jpg\n",
      "train_subset_images/51kjCVwm3FL.jpg\n",
      "train_subset_images/71LKdvTfnkL.jpg\n",
      "train_subset_images/71fThyDYKKL.jpg\n",
      "train_subset_images/41sPaw79HVL.jpg\n",
      "train_subset_images/51V9-NgHwFL.jpg\n"
     ]
    }
   ],
   "source": [
    "for image in os.listdir('train_subset_images'):\n",
    "    preprocess_image(os.path.join('train_subset_images', image))"
   ]
  },
  {
   "cell_type": "markdown",
   "metadata": {},
   "source": [
    "### OCR"
   ]
  },
  {
   "cell_type": "code",
   "execution_count": 14,
   "metadata": {},
   "outputs": [],
   "source": [
    "import pytesseract\n",
    "\n",
    "def ocr_image(image_path):\n",
    "    print(image_path)\n",
    "    image = cv2.imread(image_path)\n",
    "    custom_config = r'--oem 3 --psm 11'\n",
    "\n",
    "    # get image text\n",
    "    text = pytesseract.image_to_string(image, lang='eng', config=custom_config)\n",
    "    return text\n"
   ]
  },
  {
   "cell_type": "code",
   "execution_count": 15,
   "metadata": {},
   "outputs": [
    {
     "name": "stdout",
     "output_type": "stream",
     "text": [
      "train_subset_images_processed/41MbO2jKPlL.jpg\n",
      "g\"\n",
      "\n",
      "36cm\n",
      "\n",
      "14\n",
      "\n",
      "Za\n",
      "\f\n"
     ]
    }
   ],
   "source": [
    "import natsort\n",
    "images = natsort.natsorted(os.listdir(path='train_subset_images_processed'))\n",
    "print(ocr_image(os.path.join('train_subset_images_processed', images[1])))"
   ]
  }
 ],
 "metadata": {
  "kernelspec": {
   "display_name": "myenv",
   "language": "python",
   "name": "python3"
  },
  "language_info": {
   "codemirror_mode": {
    "name": "ipython",
    "version": 3
   },
   "file_extension": ".py",
   "mimetype": "text/x-python",
   "name": "python",
   "nbconvert_exporter": "python",
   "pygments_lexer": "ipython3",
   "version": "3.10.12"
  }
 },
 "nbformat": 4,
 "nbformat_minor": 2
}
